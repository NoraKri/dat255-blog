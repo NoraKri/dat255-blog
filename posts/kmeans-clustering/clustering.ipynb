{
  "cells": [
    {
      "cell_type": "raw",
      "metadata": {},
      "source": [
        "---\n",
        "title: \"KMeans Clustering\"\n",
        "author: \"Nora Kristiansen og Torbjørn Vatnelid\"\n",
        "date: \"2024-04-15\"\n",
        "categories: [llm]\n",
        "---"
      ],
      "id": "c7b5c75b"
    },
    {
      "cell_type": "markdown",
      "metadata": {},
      "source": [
        "When you reach a certain length of text to summarize, the other methods become too expensive or are not able to summarize well enough. We need to find a way to extract all the important parts of large texts like books or very big documents, and create a summary from them.\n",
        "\n",
        "Some simple ways to avoid using all the chunks for summarization is either randomly selecting chunks, or spacing out which chunks are selected. But what if we miss out on an important part of the text while doing this?\n",
        "\n",
        "A solution is K-means clustering, where each chunk is embedded, and then clusters are formed based on semantic meaning of those chunks. Then a summary is formed from each cluster, hopefully netting us a more accurate summary of huge texts.\n",
        "\n",
        "Another advantage is the amount of requests sent to the API. While Map Reduction sends many requests, clustering will send only one request, saving a lot of money.\n",
        "py"
      ],
      "id": "4d09d1fe"
    },
    {
      "cell_type": "code",
      "metadata": {},
      "source": [
        "from dotenv import load_dotenv\n",
        "from utils import read_files, split_document_by_tokens\n",
        "from pathlib import Path\n",
        "\n",
        "import os\n",
        "\n",
        "load_dotenv()\n",
        "OPENAI_API_KEY = os.getenv('OPENAI_API_KEY')\n",
        "documents = read_files(Path('./content/nord-universitet'))\n",
        "doc = documents[1]"
      ],
      "id": "3dcdc2be",
      "execution_count": null,
      "outputs": []
    }
  ],
  "metadata": {
    "kernelspec": {
      "name": "python3",
      "language": "python",
      "display_name": "Python 3 (ipykernel)"
    }
  },
  "nbformat": 4,
  "nbformat_minor": 5
}